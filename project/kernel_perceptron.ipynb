{
 "cells": [
  {
   "cell_type": "markdown",
   "metadata": {},
   "source": [
    "# Kernelized Perceptron Algorithm\n",
    "\n",
    "## Theory\n",
    "\n",
    "The perceptron algorithm is a fundamental algorithm for binary classification. It iteratively adjusts a weight vector $\\theta$ to find a hyperplane that separates the data into two classes. The standard perceptron update rule is:\n",
    "\n",
    "$$\n",
    "\\theta^{(i+1)} = \\theta^{(i)} + \\alpha \\left( y^{(i)} - h_{\\theta^{(i)}}(x^{(i)}) \\right) x^{(i)}\n",
    "$$\n",
    "\n",
    "where:\n",
    "- $\\theta^{(i)}$ is the weight vector at iteration $i$,\n",
    "- $\\alpha$ is the learning rate,\n",
    "- $y^{(i)}$ is the true label,\n",
    "- $h_{\\theta}(x) = \\text{sign}(\\theta^\\top x)$ is the prediction function.\n",
    "\n",
    "To handle non-linearly separable data, we can project the input features into a higher-dimensional feature space using a mapping $\\phi(x)$. However, explicitly computing $\\phi(x)$ can be computationally expensive or infeasible. The **kernel trick** allows us to compute the inner product $\\phi(x)^\\top \\phi(z)$ efficiently using a kernel function $K(x, z)$ without explicitly computing $\\phi(x)$.\n",
    "\n",
    "In the kernelized perceptron, the weight vector $\\theta$ is represented as a linear combination of the training examples:\n",
    "\n",
    "$$\n",
    "\\theta = \\sum_{j=1}^{N} \\alpha_j y^{(j)} x^{(j)}\n",
    "$$\n",
    "\n",
    "where $N$ is the number of training examples, and $\\alpha_j$ are the coefficients.\n",
    "\n",
    "## Implementation\n",
    "\n",
    "We implement the kernelized perceptron algorithm in Python. The perceptron maintains a list of support vectors and their corresponding coefficients. Predictions and updates are made using the kernel function.\n"
   ]
  },
  {
   "cell_type": "code",
   "execution_count": 18,
   "metadata": {},
   "outputs": [],
   "source": [
    "import matplotlib.pyplot as plt\n",
    "import numpy as np\n",
    "import util"
   ]
  },
  {
   "cell_type": "code",
   "execution_count": 19,
   "metadata": {},
   "outputs": [],
   "source": [
    "# Define kernels\n",
    "def linear_kernel(x, z):\n",
    "    \"\"\"\n",
    "    Linear kernel function.\n",
    "\n",
    "    Args:\n",
    "        x: First sample.\n",
    "        z: Second sample.\n",
    "\n",
    "    Returns:\n",
    "        The linear kernel between x and z.\n",
    "    \"\"\"\n",
    "    return np.dot(x, z)\n",
    "\n",
    "def rbf_kernel(x, z, sigma=1.0):\n",
    "    \"\"\"\n",
    "    Radial Basis Function (RBF) kernel.\n",
    "\n",
    "    Args:\n",
    "        x: First sample.\n",
    "        z: Second sample.\n",
    "        sigma: Bandwidth parameter.\n",
    "\n",
    "    Returns:\n",
    "        The RBF kernel between x and z.\n",
    "    \"\"\"\n",
    "    distance = np.linalg.norm(x - z)\n",
    "    return np.exp(- (distance ** 2) / (2 * sigma ** 2))"
   ]
  },
  {
   "cell_type": "code",
   "execution_count": null,
   "metadata": {},
   "outputs": [],
   "source": [
    "def sign(a):\n",
    "    \"\"\"Gets the sign of a scalar input, returns 0 or 1.\"\"\"\n",
    "    return 1 if a >= 0 else 0"
   ]
  },
  {
   "cell_type": "code",
   "execution_count": 20,
   "metadata": {},
   "outputs": [],
   "source": [
    "def initial_state():\n",
    "    \"\"\"\n",
    "    Return the initial state for the perceptron.\n",
    "    The state will be a list to store the support vectors and their coefficients.\n",
    "    \"\"\"\n",
    "    return []"
   ]
  },
  {
   "cell_type": "code",
   "execution_count": null,
   "metadata": {},
   "outputs": [],
   "source": [
    "def predict(state, kernel, x_i):\n",
    "    \"\"\"Perform a prediction on a given instance x_i given the current state and the kernel.\n",
    "\n",
    "    Args:\n",
    "        state: The state returned from initial_state(), a list of (alpha_i, x_i)\n",
    "        kernel: A kernel function K(x, z)\n",
    "        x_i: A vector containing the features for a single instance\n",
    "\n",
    "    Returns:\n",
    "        Returns the prediction (0 or 1)\n",
    "    \"\"\"\n",
    "    result = 0\n",
    "    for alpha_j, x_j in state:\n",
    "        result += alpha_j * kernel(x_j, x_i)\n",
    "    return sign(result)"
   ]
  },
  {
   "cell_type": "code",
   "execution_count": null,
   "metadata": {},
   "outputs": [],
   "source": [
    "def update_state(state, kernel, learning_rate, x_i, y_i):\n",
    "    \"\"\"Updates the state of the perceptron.\n",
    "\n",
    "    Args:\n",
    "        state: The state returned from initial_state()\n",
    "        kernel: The kernel function\n",
    "        learning_rate: The learning rate\n",
    "        x_i: Input features for a single instance\n",
    "        y_i: Label for a single instance (should be 0 or 1)\n",
    "    \"\"\"\n",
    "    # Predict the label\n",
    "    prediction = predict(state, kernel, x_i)\n",
    "    if y_i != prediction:\n",
    "        # Misclassified, update state\n",
    "        error = y_i - prediction\n",
    "        alpha_i = learning_rate * error\n",
    "        state.append((alpha_i, x_i))"
   ]
  },
  {
   "cell_type": "code",
   "execution_count": 25,
   "metadata": {},
   "outputs": [
    {
     "name": "stdout",
     "output_type": "stream",
     "text": [
      "[0. 0. 0. 0. 0. 1. 0. 1. 1. 0. 0. 1. 0. 0. 0. 0. 0. 0. 1. 0. 1. 1. 0. 0.\n",
      " 1. 0. 1. 0. 0. 1. 0. 1. 1. 0. 0. 1. 0. 0. 0. 1. 1. 1. 0. 1. 1. 1. 0. 1.\n",
      " 1. 1. 1. 0. 0. 0. 0. 0. 1. 1. 0. 1. 1. 1. 1. 1. 0. 0. 0. 1. 0. 1. 0. 1.\n",
      " 0. 0. 1. 0. 0. 1. 1. 0. 0. 1. 0. 1. 1. 0. 1. 0. 1. 0. 1. 0. 1. 0. 0. 0.\n",
      " 1. 1. 0. 1. 0. 0. 0. 0. 1. 1. 0. 1. 1. 0. 0. 0. 1. 0. 0. 0. 0. 1. 0. 0.\n",
      " 1. 0. 0. 1. 1. 1. 0. 1. 1. 1. 0. 1. 1. 1. 1. 1. 1. 1. 1. 1. 1. 1. 1. 0.\n",
      " 0. 1. 0. 1. 1. 1. 0. 0. 0. 0. 0. 1. 0. 0. 1. 0. 0. 0. 0. 1. 0. 0. 0. 1.\n",
      " 0. 1. 0. 1. 0. 1. 0. 1. 1. 0. 0. 0. 1. 1. 0. 1. 1. 1. 0. 1. 1. 0. 0. 0.\n",
      " 1. 1. 1. 0. 1. 1. 0. 0.]\n",
      "[-1. -1. -1. -1. -1.  1. -1.  1.  1. -1. -1.  1. -1. -1. -1. -1. -1. -1.\n",
      "  1. -1.  1.  1. -1. -1.  1. -1.  1. -1. -1.  1. -1.  1.  1. -1. -1.  1.\n",
      " -1. -1. -1.  1.  1.  1. -1.  1.  1.  1. -1.  1.  1.  1.  1. -1. -1. -1.\n",
      " -1. -1.  1.  1. -1.  1.  1.  1.  1.  1. -1. -1. -1.  1. -1.  1. -1.  1.\n",
      " -1. -1.  1. -1. -1.  1.  1. -1. -1.  1. -1.  1.  1. -1.  1. -1.  1. -1.\n",
      "  1. -1.  1. -1. -1. -1.  1.  1. -1.  1. -1. -1. -1. -1.  1.  1. -1.  1.\n",
      "  1. -1. -1. -1.  1. -1. -1. -1. -1.  1. -1. -1.  1. -1. -1.  1.  1.  1.\n",
      " -1.  1.  1.  1. -1.  1.  1.  1.  1.  1.  1.  1.  1.  1.  1.  1.  1. -1.\n",
      " -1.  1. -1.  1.  1.  1. -1. -1. -1. -1. -1.  1. -1. -1.  1. -1. -1. -1.\n",
      " -1.  1. -1. -1. -1.  1. -1.  1. -1.  1. -1.  1. -1.  1.  1. -1. -1. -1.\n",
      "  1.  1. -1.  1.  1.  1. -1.  1.  1. -1. -1. -1.  1.  1.  1. -1.  1.  1.\n",
      " -1. -1.]\n",
      "Kernel: linear, Test Accuracy: 0.53\n"
     ]
    },
    {
     "data": {
      "image/png": "[encoded data removed]",
      "text/plain": [
       "<Figure size 640x480 with 1 Axes>"
      ]
     },
     "metadata": {},
     "output_type": "display_data"
    },
    {
     "name": "stdout",
     "output_type": "stream",
     "text": [
      "Kernel: rbf, Test Accuracy: 0.92\n"
     ]
    },
    {
     "data": {
      "image/png": "[encoded data removed]",
      "text/plain": [
       "<Figure size 640x480 with 1 Axes>"
      ]
     },
     "metadata": {},
     "output_type": "display_data"
    }
   ],
   "source": [
    "def main():\n",
    "    \"\"\"\n",
    "    Main function to run the kernelized perceptron algorithm.\n",
    "    \"\"\"\n",
    "    # Load training data\n",
    "    X_train, y_train = util.load_csv('data/train_perceptron.csv')\n",
    "    # Convert labels from 0/1 to -1/+1\n",
    "    y_train = np.where(y_train == 0, -1, y_train)\n",
    "\n",
    "    # Load test data\n",
    "    X_test, y_test = util.load_csv('data/test_perceptron.csv')\n",
    "    print(y_test)\n",
    "    # Convert labels from 0/1 to -1/+1\n",
    "    y_test = np.where(y_test == 0, -1, y_test)\n",
    "    \n",
    "    print(y_test)\n",
    "\n",
    "    # Define kernels\n",
    "    kernels = {'linear': linear_kernel, 'rbf': rbf_kernel}\n",
    "\n",
    "    for kernel_name, kernel_func in kernels.items():\n",
    "        # Initialize state\n",
    "        state = initial_state()\n",
    "        learning_rate = 1.0  # Adjust learning rate as needed\n",
    "\n",
    "        # Train perceptron\n",
    "        for x_i, y_i_i in zip(X_train, y_train):\n",
    "            update_state(state, kernel_func, learning_rate, x_i, y_i_i)\n",
    "\n",
    "        # Make predictions on test data\n",
    "        y_pred = np.array([predict(state, kernel_func, x_i) for x_i in X_test])\n",
    "\n",
    "        # Compute accuracy\n",
    "        accuracy = np.mean(y_pred == y_test)\n",
    "        print(f\"Kernel: {kernel_name}, Test Accuracy: {accuracy:.2f}\")\n",
    "\n",
    "        # Plot decision boundary\n",
    "        plt.figure()\n",
    "        # Define predict_fn for plotting\n",
    "        def predict_fn(x):\n",
    "            x = np.array(x)\n",
    "            return predict(state, kernel_func, x)\n",
    "        util.plot_contour(predict_fn)\n",
    "        util.plot_points(X_test, y_test)\n",
    "        plt.title(f\"Perceptron with {kernel_name.capitalize()} Kernel\")\n",
    "        plt.savefig(f\"perceptron_{kernel_name}_output.png\")\n",
    "        plt.show()\n",
    "\n",
    "if __name__ == '__main__':\n",
    "    main()"
   ]
  },
  {
   "cell_type": "code",
   "execution_count": null,
   "metadata": {},
   "outputs": [],
   "source": []
  }
 ],
 "metadata": {
  "kernelspec": {
   "display_name": "XCS229",
   "language": "python",
   "name": "python3"
  },
  "language_info": {
   "codemirror_mode": {
    "name": "ipython",
    "version": 3
   },
   "file_extension": ".py",
   "mimetype": "text/x-python",
   "name": "python",
   "nbconvert_exporter": "python",
   "pygments_lexer": "ipython3",
   "version": "3.8.18"
  }
 },
 "nbformat": 4,
 "nbformat_minor": 2
}
